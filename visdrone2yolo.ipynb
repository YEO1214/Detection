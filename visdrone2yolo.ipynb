{
 "cells": [
  {
   "cell_type": "code",
   "execution_count": 1,
   "id": "7e6246dd",
   "metadata": {},
   "outputs": [],
   "source": [
    "import pandas as pd\n",
    "import numpy as np\n",
    "import cv2\n",
    "import os"
   ]
  },
  {
   "cell_type": "code",
   "execution_count": 75,
   "id": "cf93b24e",
   "metadata": {},
   "outputs": [],
   "source": [
    "ann_list = os.listdir('annotations')"
   ]
  },
  {
   "cell_type": "code",
   "execution_count": null,
   "id": "82839497",
   "metadata": {},
   "outputs": [],
   "source": []
  },
  {
   "cell_type": "code",
   "execution_count": 109,
   "id": "c429615d",
   "metadata": {},
   "outputs": [],
   "source": [
    "for i in range(len(ann_list)):\n",
    "    with open('annotations/'+'{}'.format(ann_list[i]),'r') as f:\n",
    "        ls = f.readlines()\n",
    "        ann_ls = list(map(lambda x: x[:-1],ls)) #\\n 삭제\n",
    "        ann_ls = list(map(lambda x: x.split(','),ann_ls)) #,기준으로 나누기\n",
    "        x_min = list(map(lambda x: x[0],ann_ls))\n",
    "        y_min = list(map(lambda x: x[1],ann_ls))\n",
    "        bbox_width = list(map(lambda x: x[2],ann_ls))\n",
    "        bbox_height = list(map(lambda x: x[3],ann_ls))\n",
    "        category = list(map(lambda x: x[5],ann_ls))\n",
    "\n",
    "        #이미지 전체 너비, 높이\n",
    "        img = cv2.imread('images/'+ann_list[i][:-4]+'.jpg')\n",
    "        width = img.shape[1]\n",
    "        height = img.shape[0]\n",
    "\n",
    "        # 중심점 좌표\n",
    "        x_center = (np.array(x_min,dtype='int')+(np.array(bbox_width,dtype='int')/2))/width\n",
    "        y_center = (np.array(y_min,dtype='int')+(np.array(bbox_height,dtype='int')/2))/height\n",
    "        bbox_width_yolo = np.array(bbox_width,dtype='int')/width\n",
    "        bbox_height_yolo = np.array(bbox_height,dtype='int')/height\n",
    "\n",
    "        for j, class_yolo in enumerate(category):\n",
    "            if class_yolo ==  '4' or class_yolo ==  '6' or class_yolo ==  '9':\n",
    "                class_yolo = list(map(lambda class_yolo: 0 if class_yolo=='4' else 1 if class_yolo=='6' else 2 if class_yolo =='9' else class_yolo,class_yolo))\n",
    "                with open('training_labels/'+'{}'.format(ann_list[i]),'a') as f:\n",
    "                    f.write('{} {} {} {} {}\\n'.format(class_yolo[0],x_center[j],y_center[j],bbox_width_yolo[j],bbox_height_yolo[j]))"
   ]
  },
  {
   "cell_type": "code",
   "execution_count": null,
   "id": "31e9b727",
   "metadata": {},
   "outputs": [],
   "source": []
  },
  {
   "cell_type": "code",
   "execution_count": 105,
   "id": "ecd0a075",
   "metadata": {},
   "outputs": [],
   "source": [
    "with open('annotations/'+'{}'.format(ann_list[i]),'r') as f:\n",
    "    ls = f.readlines()\n",
    "    ann_ls = list(map(lambda x: x[:-1],ls)) #\\n 삭제\n",
    "    ann_ls = list(map(lambda x: x.split(','),ann_ls)) #,기준으로 나누기\n",
    "    x_min = list(map(lambda x: x[0],ann_ls))\n",
    "    y_min = list(map(lambda x: x[1],ann_ls))\n",
    "    bbox_width = list(map(lambda x: x[2],ann_ls))\n",
    "    bbox_height = list(map(lambda x: x[3],ann_ls))\n",
    "    category = list(map(lambda x: x[5],ann_ls))\n",
    "\n",
    "    #이미지 전체 너비, 높이\n",
    "    img = cv2.imread('images/'+ann_list[i][:-4]+'.jpg')\n",
    "    width = img.shape[1]\n",
    "    height = img.shape[0]\n",
    "\n",
    "    # 중심점 좌표\n",
    "    x_center = (np.array(x_min,dtype='int')+(np.array(bbox_width,dtype='int')/2))/width\n",
    "    y_center = (np.array(y_min,dtype='int')+(np.array(bbox_height,dtype='int')/2))/height\n",
    "    bbox_width_yolo = np.array(bbox_width,dtype='int')/width\n",
    "    bbox_height_yolo = np.array(bbox_height,dtype='int')/height\n",
    "\n",
    "    for j, class_yolo in enumerate(category):\n",
    "        if class_yolo ==  '4' or class_yolo ==  '6' or class_yolo ==  '9':\n",
    "            class_yolo = list(map(lambda class_yolo: 2 if class_yolo=='4' else 7 if class_yolo=='6' else 5 if class_yolo =='9' else class_yolo,class_yolo))\n",
    "            with open('training_labels/'+'{}'.format(ann_list[i]),'a') as f:\n",
    "                f.write('{} {} {} {} {}\\n'.format(class_yolo[0],x_center[j],y_center[j],bbox_width_yolo[j],bbox_height_yolo[j]))"
   ]
  }
 ],
 "metadata": {
  "kernelspec": {
   "display_name": "Python 3",
   "language": "python",
   "name": "python3"
  },
  "language_info": {
   "codemirror_mode": {
    "name": "ipython",
    "version": 3
   },
   "file_extension": ".py",
   "mimetype": "text/x-python",
   "name": "python",
   "nbconvert_exporter": "python",
   "pygments_lexer": "ipython3",
   "version": "3.8.8"
  }
 },
 "nbformat": 4,
 "nbformat_minor": 5
}
